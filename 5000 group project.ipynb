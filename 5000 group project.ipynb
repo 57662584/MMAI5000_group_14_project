{
 "cells": [
  {
   "cell_type": "code",
   "execution_count": null,
   "id": "3f940e79",
   "metadata": {},
   "outputs": [],
   "source": [
    "\n",
    "from pathlib import Path\n",
    "\n",
    "import pandas as pd\n",
    "from sklearn.model_selection import train_test_split\n",
    "from sklearn.linear_model import LinearRegression, Lasso, Ridge, LassoCV, BayesianRidge\n",
    "import statsmodels.formula.api as sm\n",
    "import matplotlib.pylab as plt\n",
    "\n",
    "import dmba\n",
    "from dmba import regressionSummary, exhaustive_search\n",
    "from dmba import backward_elimination, forward_selection, stepwise_selection\n",
    "from dmba import adjusted_r2_score, AIC_score, BIC_score\n"
   ]
  },
  {
   "cell_type": "code",
   "execution_count": 33,
   "id": "b18bcb84",
   "metadata": {},
   "outputs": [
    {
     "name": "stdout",
     "output_type": "stream",
     "text": [
      "     QKEY INTERVIEW_START_W119   INTERVIEW_END_W119  DEVICE_TYPE_W119  \\\n",
      "0  100314  12/13/2022 23:12:27  12/13/2022 23:23:59                 2   \n",
      "1  100363  12/13/2022 19:50:59  12/13/2022 20:05:29                 2   \n",
      "2  100598  12/14/2022 16:30:21  12/14/2022 16:47:21                 1   \n",
      "3  100637  12/14/2022 08:22:09  12/14/2022 08:33:45                 1   \n",
      "4  100803  12/15/2022 09:05:46  12/15/2022 09:22:29                 1   \n",
      "\n",
      "   LANG_W119  FORM_W119  DESRISK_COMF_W119  DESRISK_CREAT_W119  \\\n",
      "0          1          1                  4                   3   \n",
      "1          1          2                  3                   3   \n",
      "2          1          1                  4                   4   \n",
      "3          1          2                  2                   1   \n",
      "4          1          2                  3                   3   \n",
      "\n",
      "   DESRISK_NTECH_W119  RISK2_W119  ...  F_PARTYLN_FINAL  F_PARTYSUM_FINAL  \\\n",
      "0                   4           2  ...                                  1   \n",
      "1                   2           1  ...                                  2   \n",
      "2                   3           2  ...                                  1   \n",
      "3                   3           2  ...                1                 1   \n",
      "4                   4           1  ...                                  1   \n",
      "\n",
      "   F_PARTYSUMIDEO_FINAL  F_REG  F_INC_SDT1  F_IDEO  F_INTFREQ  F_VOLSUM  \\\n",
      "0                     1      1           4       2          5         1   \n",
      "1                     3      1           9       3          2         1   \n",
      "2                     1      1           9       2          2         1   \n",
      "3                     1      1           5       2          3         2   \n",
      "4                     1      1           9       2          4         1   \n",
      "\n",
      "   F_INC_TIER2  WEIGHT_W119  \n",
      "0            2     0.522544  \n",
      "1            3     0.382610  \n",
      "2            3     0.432799  \n",
      "3            2     0.671114  \n",
      "4            3     0.196177  \n",
      "\n",
      "[5 rows x 156 columns]\n"
     ]
    },
    {
     "name": "stderr",
     "output_type": "stream",
     "text": [
      "C:\\Users\\User\\AppData\\Local\\Temp\\ipykernel_15100\\2529272665.py:1: DtypeWarning: Columns (154) have mixed types. Specify dtype option on import or set low_memory=False.\n",
      "  df = pd.read_csv('https://raw.githubusercontent.com/57662584/MMAI5000_group_14_project/refs/heads/main/Data-ATP-W119-PEW.csv')\n"
     ]
    }
   ],
   "source": [
    "df = pd.read_csv('https://raw.githubusercontent.com/57662584/MMAI5000_group_14_project/refs/heads/main/Data-ATP-W119-PEW.csv')\n",
    "print(df.head())\n",
    "df.columns = [col[:-5] + '_W119' if col.lower().endswith('_w119') else col for col in df.columns]\n",
    "\n"
   ]
  }
 ],
 "metadata": {
  "language_info": {
   "name": "python"
  }
 },
 "nbformat": 4,
 "nbformat_minor": 5
}
